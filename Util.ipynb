{
  "nbformat": 4,
  "nbformat_minor": 0,
  "metadata": {
    "colab": {
      "name": "Util.ipynb",
      "version": "0.3.2",
      "provenance": [],
      "collapsed_sections": []
    },
    "kernelspec": {
      "name": "python3",
      "display_name": "Python 3"
    }
  },
  "cells": [
    {
      "metadata": {
        "id": "xnF7rDa95j6P",
        "colab_type": "code",
        "colab": {}
      },
      "cell_type": "code",
      "source": [
        "import requests\n",
        "from google.colab import files\n",
        "from collections import namedtuple"
      ],
      "execution_count": 0,
      "outputs": []
    },
    {
      "metadata": {
        "id": "pjeT4HDK4R3z",
        "colab_type": "code",
        "colab": {}
      },
      "cell_type": "code",
      "source": [
        "def downloadFromGithub(url,dest,colab=False):\n",
        "    \"\"\"\n",
        "    Downloads file from Github\n",
        "    USE RAW link!!!\n",
        "    \n",
        "    Parameter\n",
        "    String file - link of file\n",
        "    String des - destination of file\n",
        "    bool colab - Running on google colab\n",
        "    \"\"\"\n",
        " \n",
        "    r = requests.get(url)\n",
        "    with open(dest, 'wb') as f:  \n",
        "        f.write(r.content)\n",
        "        \n",
        "    #if colab == True:\n",
        "        #files.download(dest)\n",
        "    \n",
        "Tag = namedtuple(\"Tag\", [\"word\", \"tag\"])    \n",
        "def readTags(file):\n",
        "    \"\"\"\n",
        "    Creates a list of tagged words from the corpus\n",
        "    \n",
        "    Parameter\n",
        "    String file - dest of file from which sentences are to be read\n",
        "    \n",
        "    Return\n",
        "    sentences - read tags\n",
        "    \"\"\"\n",
        "    tags = []\n",
        "    sep=\"\\t\"\n",
        "    with open(file) as fp:\n",
        "        for line in fp:\n",
        "            line = line.strip()\n",
        "            if line:\n",
        "                line = line.split(sep)\n",
        "                tags.append(Tag(*line))\n",
        "            else:\n",
        "                tags.append(Tag(\"\",\"\"))  #append emty tuple to mark sentence ending\n",
        "    return tags\n",
        "     \n",
        "    "
      ],
      "execution_count": 0,
      "outputs": []
    },
    {
      "metadata": {
        "id": "wNpn1cq-dIsJ",
        "colab_type": "code",
        "colab": {}
      },
      "cell_type": "code",
      "source": [
        ""
      ],
      "execution_count": 0,
      "outputs": []
    },
    {
      "metadata": {
        "id": "U4gT6xk95_TN",
        "colab_type": "code",
        "outputId": "6160ecb9-62a5-4908-f9e4-3df9f5942780",
        "colab": {
          "base_uri": "https://localhost:8080/",
          "height": 54
        }
      },
      "cell_type": "code",
      "source": [
        "url = \"https://raw.githubusercontent.com/leondz/emerging_entities_17/master/wnut17train.conll\"\n",
        "dest = r\"C:\\Users\\alumno\\Desktop\\data\"\n",
        "downloadFromGithub(url,dest,True)\n",
        "\n",
        "tags = readTags(r\"C:\\Users\\alumno\\Desktop\\data\")\n",
        "#print(tags)\n",
        "\n"
      ],
      "execution_count": 61,
      "outputs": [
        {
          "output_type": "stream",
          "text": [
            "[['@paulwalk', 'It', \"'s\", 'the', 'view', 'from', 'where', 'I', \"'m\", 'living', 'for', 'two', 'weeks', '.', 'Empire', 'State', 'Building', '=', 'ESB', '.', 'Pretty', 'bad', 'storm', 'here', 'last', 'evening', '.'], ['From', 'Green', 'Newsfeed', ':', 'AHFA', 'extends', 'deadline', 'for', 'Sage', 'Award', 'to', 'Nov', '.', '5', 'http://tinyurl.com/24agj38']]\n"
          ],
          "name": "stdout"
        }
      ]
    },
    {
      "metadata": {
        "id": "yJhCx7Exd_U_",
        "colab_type": "code",
        "colab": {}
      },
      "cell_type": "code",
      "source": [
        ""
      ],
      "execution_count": 0,
      "outputs": []
    },
    {
      "metadata": {
        "id": "kS0-hIHSljeF",
        "colab_type": "code",
        "colab": {}
      },
      "cell_type": "code",
      "source": [
        ""
      ],
      "execution_count": 0,
      "outputs": []
    }
  ]
}