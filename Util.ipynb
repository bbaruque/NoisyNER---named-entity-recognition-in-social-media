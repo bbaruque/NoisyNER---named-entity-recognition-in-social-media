{
 "cells": [
  {
   "cell_type": "code",
   "execution_count": 0,
   "metadata": {
    "colab": {},
    "colab_type": "code",
    "id": "xnF7rDa95j6P"
   },
   "outputs": [],
   "source": [
    "import requests\n",
    "from google.colab import files\n",
    "from collections import namedtuple"
   ]
  },
  {
   "cell_type": "code",
   "execution_count": 0,
   "metadata": {
    "colab": {},
    "colab_type": "code",
    "id": "pjeT4HDK4R3z"
   },
   "outputs": [],
   "source": [
    "def downloadFromGithub(url,dest,colab=False):\n",
    "    \"\"\"\n",
    "    Downloads file from Github\n",
    "    USE RAW link!!!\n",
    "    \n",
    "    Parameter\n",
    "    String file - link of file\n",
    "    String des - destination of file\n",
    "    bool colab - Running on google colab\n",
    "    \"\"\"\n",
    " \n",
    "    r = requests.get(url)\n",
    "    with open(dest, 'wb') as f:  \n",
    "        f.write(r.content)\n",
    "        \n",
    "    #if colab == True:\n",
    "        #files.download(dest)\n",
    "    \n",
    "Tag = namedtuple(\"Tag\", [\"word\", \"tag\"])    \n",
    "def readTags(file):\n",
    "    \"\"\"\n",
    "    Creates a list of tagged words from the corpus\n",
    "    \n",
    "    Parameter\n",
    "    String file - dest of file from which sentences are to be read\n",
    "    \n",
    "    Return\n",
    "    sentences - read tags\n",
    "    \"\"\"\n",
    "    tags = []\n",
    "    sep=\"\\t\"\n",
    "    with open(file) as fp:\n",
    "        for line in fp:\n",
    "            line = line.strip()\n",
    "            if line:\n",
    "                line = line.split(sep)\n",
    "                tags.append(Tag(*line))\n",
    "            else:\n",
    "                tags.append(Tag(\"\",\"\"))  #append emty tuple to mark sentence ending\n",
    "    return tags\n",
    "     \n",
    "    "
   ]
  },
  {
   "cell_type": "code",
   "execution_count": 0,
   "metadata": {
    "colab": {},
    "colab_type": "code",
    "id": "wNpn1cq-dIsJ"
   },
   "outputs": [],
   "source": []
  },
  {
   "cell_type": "code",
   "execution_count": 61,
   "metadata": {
    "colab": {
     "base_uri": "https://localhost:8080/",
     "height": 54.0
    },
    "colab_type": "code",
    "id": "U4gT6xk95_TN",
    "outputId": "6160ecb9-62a5-4908-f9e4-3df9f5942780"
   },
   "outputs": [
    {
     "name": "stdout",
     "output_type": "stream",
     "text": [
      "[['@paulwalk', 'It', \"'s\", 'the', 'view', 'from', 'where', 'I', \"'m\", 'living', 'for', 'two', 'weeks', '.', 'Empire', 'State', 'Building', '=', 'ESB', '.', 'Pretty', 'bad', 'storm', 'here', 'last', 'evening', '.'], ['From', 'Green', 'Newsfeed', ':', 'AHFA', 'extends', 'deadline', 'for', 'Sage', 'Award', 'to', 'Nov', '.', '5', 'http://tinyurl.com/24agj38']]\n"
     ]
    }
   ],
   "source": [
    "url = \"https://raw.githubusercontent.com/leondz/emerging_entities_17/master/wnut17train.conll\"\n",
    "dest = r\"C:\\Users\\alumno\\Desktop\\data\"\n",
    "downloadFromGithub(url,dest,True)\n",
    "\n",
    "tags = readTags(r\"C:\\Users\\alumno\\Desktop\\data\")\n",
    "#print(tags)\n",
    "\n"
   ]
  },
  {
   "cell_type": "code",
   "execution_count": 0,
   "metadata": {
    "colab": {},
    "colab_type": "code",
    "id": "yJhCx7Exd_U_"
   },
   "outputs": [],
   "source": []
  },
  {
   "cell_type": "code",
   "execution_count": 0,
   "metadata": {
    "colab": {},
    "colab_type": "code",
    "id": "kS0-hIHSljeF"
   },
   "outputs": [],
   "source": []
  }
 ],
 "metadata": {
  "colab": {
   "collapsed_sections": [],
   "name": "Util.ipynb",
   "provenance": [],
   "version": "0.3.2"
  },
  "kernelspec": {
   "display_name": "Python 3",
   "language": "python",
   "name": "python3"
  },
  "language_info": {
   "codemirror_mode": {
    "name": "ipython",
    "version": 3
   },
   "file_extension": ".py",
   "mimetype": "text/x-python",
   "name": "python",
   "nbconvert_exporter": "python",
   "pygments_lexer": "ipython3",
   "version": "3.7.1"
  }
 },
 "nbformat": 4,
 "nbformat_minor": 1
}
